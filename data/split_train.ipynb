{
 "cells": [
  {
   "cell_type": "code",
   "execution_count": 3,
   "metadata": {},
   "outputs": [],
   "source": [
    "import os\n",
    "import random\n",
    "\n",
    "\n",
    "train_list = []\n",
    "\n",
    "with open('./2018LA_Seg_Training Set/train.list') as f:\n",
    "    for line in f:\n",
    "        train_list.append(line.strip())\n",
    "        \n",
    "random.shuffle(train_list)\n",
    "\n",
    "train_8_label_list = train_list[:8]\n",
    "train_8_unlabel_list = train_list[8:]\n",
    "\n",
    "with open('./2018LA_Seg_Training Set/train_8_label.list', 'w') as f:\n",
    "    for line in train_8_label_list:\n",
    "        f.write(line + '\\n')\n",
    "        \n",
    "with open('./2018LA_Seg_Training Set/train_8_unlabel.list', 'w') as f:\n",
    "    for line in train_8_unlabel_list:\n",
    "        f.write(line + '\\n')\n",
    "        \n",
    "random.shuffle(train_list)\n",
    "\n",
    "train_16_label_list = train_list[:16]\n",
    "train_16_unlabel_list = train_list[16:]\n",
    "\n",
    "with open('./2018LA_Seg_Training Set/train_16_label.list', 'w') as f:\n",
    "    for line in train_16_label_list:\n",
    "        f.write(line + '\\n')\n",
    "    \n",
    "with open('./2018LA_Seg_Training Set/train_16_unlabel.list', 'w') as f:\n",
    "    for line in train_16_unlabel_list:\n",
    "        f.write(line + '\\n')"
   ]
  },
  {
   "cell_type": "code",
   "execution_count": 4,
   "metadata": {},
   "outputs": [],
   "source": [
    "# import h5py\n",
    "# import torch\n",
    "# from torchvision import transforms\n",
    "# import albumentations as A\n",
    "# from torchio import transforms as tiot\n",
    "\n",
    "# sample = '/home/zb/WCS/codes/MICCAI2024/DTC-master/data/2018LA_Seg_Training Set/0RZDK210BSMWAA6467LU/mri_norm2.h5'\n",
    "\n",
    "# with h5py.File(sample, 'r') as f:\n",
    "#     image = f['image'][:]\n",
    "#     label = f['label'][:]\n",
    "\n",
    "# print(image.shape)\n",
    "# print(type(image))\n",
    "\n",
    "# image = torch.from_numpy(image).unsqueeze(0)\n",
    "\n",
    "# image = tiot.RandomBlur(std=(0.1, 2.0))(image)\n",
    "# image = tiot.RandomGamma()(image)\n",
    "\n",
    "# image"
   ]
  },
  {
   "cell_type": "code",
   "execution_count": 2,
   "metadata": {},
   "outputs": [],
   "source": [
    "import shutil\n",
    "import os\n",
    "train_list = []\n",
    "\n",
    "data_root = './2018LA_Seg_Training Set copy'\n",
    "target_path = './2018LA_Seg_Training Set copy2'\n",
    "\n",
    "if not os.path.exists(target_path):\n",
    "    os.makedirs(target_path)\n",
    "\n",
    "with open('./2018LA_Seg_Training Set/train.list') as f:\n",
    "    for line in f:\n",
    "        train_list.append(line.strip())\n",
    "\n",
    "for img_path in train_list:\n",
    "    # move to new path\n",
    "    shutil.move(os.path.join(data_root, img_path), os.path.join(target_path, img_path))"
   ]
  }
 ],
 "metadata": {
  "kernelspec": {
   "display_name": "torch212",
   "language": "python",
   "name": "python3"
  },
  "language_info": {
   "codemirror_mode": {
    "name": "ipython",
    "version": 3
   },
   "file_extension": ".py",
   "mimetype": "text/x-python",
   "name": "python",
   "nbconvert_exporter": "python",
   "pygments_lexer": "ipython3",
   "version": "3.11.5"
  }
 },
 "nbformat": 4,
 "nbformat_minor": 2
}
